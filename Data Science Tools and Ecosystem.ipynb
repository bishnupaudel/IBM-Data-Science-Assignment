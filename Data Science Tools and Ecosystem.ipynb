{
 "cells": [
  {
   "cell_type": "markdown",
   "id": "2323382b-9c10-4896-a18c-cc8a2c6e345a",
   "metadata": {},
   "source": [
    "# Data Science Tools and Ecosystem"
   ]
  },
  {
   "cell_type": "markdown",
   "id": "3218c72c-f5b4-4998-afe3-7107083d14c7",
   "metadata": {},
   "source": [
    "## In this notebook, Data Science Tools and Ecosystem are summarized:"
   ]
  },
  {
   "cell_type": "markdown",
   "id": "3e7536d5-ee53-4445-a441-e144cc75a0e8",
   "metadata": {},
   "source": [
    "### Objectives:\n",
    "- Popular languages use for Data Science\n",
    "- Commonly used libraries for Data Science\n",
    "- Data Sciece open source tools\n",
    "- Arithmetic Expression in Jupyter Notebook"
   ]
  },
  {
   "cell_type": "markdown",
   "id": "baf6a91a-af07-40a5-aba4-a7a4de638085",
   "metadata": {},
   "source": [
    "## Some of the pupulate languages that Data Scientist use are:\n",
    "1. Python\n",
    "2. R\n",
    "3. Java\n",
    "4. SQL"
   ]
  },
  {
   "cell_type": "markdown",
   "id": "10229e5b-50b3-4657-8b6c-e2a4f1a64d2a",
   "metadata": {},
   "source": [
    "## Some of the commonly used libraries used by Data Scientist include:\n",
    "1. Scikit learn\n",
    "2. Numpy\n",
    "3. Pandas\n",
    "4. Caret\n",
    "5. Matplotlib"
   ]
  },
  {
   "cell_type": "markdown",
   "id": "39a330b7-2279-436a-b197-a1b20b80c603",
   "metadata": {},
   "source": [
    "Data Science Tools\n",
    "|------------------|\n",
    "|Jupyter Notebooks|\n",
    "|R Studio|\n",
    "|Ggplot2|\n",
    "\n"
   ]
  },
  {
   "cell_type": "markdown",
   "id": "ef97e9a9-828c-403e-81f3-05aa4336a47f",
   "metadata": {},
   "source": [
    "### Below are few examples of evaluating arithmetic expression in python:"
   ]
  },
  {
   "cell_type": "code",
   "execution_count": 14,
   "id": "3cf5acf9-4b7f-47de-98e1-b2e8fdee04fe",
   "metadata": {},
   "outputs": [
    {
     "data": {
      "text/plain": [
       "17"
      ]
     },
     "execution_count": 14,
     "metadata": {},
     "output_type": "execute_result"
    }
   ],
   "source": [
    "# This is the arithmetic expression to multiply then add integers\n",
    "(3*4)+5"
   ]
  },
  {
   "cell_type": "code",
   "execution_count": 16,
   "id": "1f3cd370-c18d-4895-b14b-bd898f534519",
   "metadata": {},
   "outputs": [
    {
     "data": {
      "text/plain": [
       "3.3333333333333335"
      ]
     },
     "execution_count": 16,
     "metadata": {},
     "output_type": "execute_result"
    }
   ],
   "source": [
    "# This will convert 200 minutes to hours by diving by 60\n",
    "200/60"
   ]
  },
  {
   "cell_type": "markdown",
   "id": "4b6e7f79-81b1-47f8-bcc6-f5930d249762",
   "metadata": {},
   "source": [
    "## Author\n",
    "Bishnu Paudel"
   ]
  },
  {
   "cell_type": "code",
   "execution_count": null,
   "id": "38b50a96-d46b-43a5-9835-2ca45a4e7891",
   "metadata": {},
   "outputs": [],
   "source": []
  }
 ],
 "metadata": {
  "kernelspec": {
   "display_name": "Python 3 (ipykernel)",
   "language": "python",
   "name": "python3"
  },
  "language_info": {
   "codemirror_mode": {
    "name": "ipython",
    "version": 3
   },
   "file_extension": ".py",
   "mimetype": "text/x-python",
   "name": "python",
   "nbconvert_exporter": "python",
   "pygments_lexer": "ipython3",
   "version": "3.12.7"
  }
 },
 "nbformat": 4,
 "nbformat_minor": 5
}
